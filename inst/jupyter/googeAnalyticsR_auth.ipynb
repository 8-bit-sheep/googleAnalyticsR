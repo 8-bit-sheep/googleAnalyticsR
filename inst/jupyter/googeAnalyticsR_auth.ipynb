{
 "cells": [
  {
   "cell_type": "markdown",
   "metadata": {},
   "source": [
    "# Authentication of googleAnalyticsR with gcloud user on Jupyter\n",
    "\n",
    "Thanks to a tweet from Lak, he highlighted another way to authenticate purely online when using notebooks e.g. not uploading a token from an offline R session.\n",
    "\n",
    "Lak documents this in [this helpful blogpost](https://towardsdatascience.com/how-to-use-jupyter-on-a-google-cloud-vm-5ba1b473f4c2)\n",
    "\n",
    "It involves using the Terminal to get user access from the authentication within GCP.\n",
    "\n",
    "1. Create an `OAuth2 client ID (Other)` for the project running the notebook at this link https://console.cloud.google.com/apis/credentials\n",
    "2. Save the clientId JSON and upload to the Jupyter base directory (here assumed you name it `jupyter_client_id.json`)\n",
    "3. Make sure the APIs you want to authentication with are [activated for that project](https://console.cloud.google.com/apis/library) e.g. Google Analytics Reporting API\n",
    "4. Make a Terminal in Jupyter via `File > New > Terminal` and issue the below commands to login via the browser, and print the access token (hint: you can press SHIFT and right click in terminal to copy/paste if CTRL+C and CTRL+V\n",
    "\n",
    "```bash\n",
    "# https://cloud.google.com/sdk/gcloud/reference/auth/application-default/login\n",
    "gcloud auth application-default login \\\n",
    "    --client-id-file jupyter_client_id.json \\\n",
    "    --scopes=https://www.googleapis.com/auth/analytics.readonly,https://www.googleapis.com/auth/analytics\n",
    "\n",
    "## access the URL, login and create a verification code, paste in console.\n",
    "\n",
    "## view then copy-paste the access token, to be passed into the R function\n",
    "gcloud auth application-default print-access-token\n",
    "```\n",
    "\n",
    "5. Use the following function to take the access token.  This will be in `googleAuthR` version > 0.7.9000"
   ]
  },
  {
   "cell_type": "code",
   "execution_count": 1,
   "metadata": {},
   "outputs": [],
   "source": [
    "gar_gce_auth_default <- function(access_token, \n",
    "                                 scopes, \n",
    "                                 cache_file = \"gcloud.auth\"){\n",
    "  \n",
    "  json_creds <- jsonlite::fromJSON('~/.config/gcloud/application_default_credentials.json')\n",
    "  \n",
    "  token_formatted <-\n",
    "    httr::Token2.0$new(app = httr::oauth_app(\"google\", \n",
    "                                 key = json_creds$client_id, \n",
    "                                 secret = json_creds$client_secret),\n",
    "                       endpoint = httr::oauth_endpoints(\"google\"),\n",
    "                       credentials = list(access_token = access_token,\n",
    "                                          token_type = json_creds$type,\n",
    "                                          expires_in = NULL,\n",
    "                                          refresh_token = NULL),\n",
    "                       params = list(scope = scopes, type = NULL,\n",
    "                                     use_oob = FALSE, as_header = TRUE),\n",
    "                       cache_path = FALSE)\n",
    "  \n",
    "  options(\"googleAuthR.client_id\" = json_creds$client_id,\n",
    "          \"googleAuthR.client_secret\" = json_creds$client_secret,\n",
    "          \"googleAuthR.scopes.selected\" = scopes)\n",
    "  saveRDS(token_formatted, cache_file)\n",
    "  \n",
    "  message(\"Authenticated. Token saved to \", cache_file)\n",
    "  \n",
    "  token_formatted\n",
    "  \n",
    "}"
   ]
  },
  {
   "cell_type": "markdown",
   "metadata": {},
   "source": [
    "An example token copy-pasted from the terminal is below.  Pass that and the scopes for the API into the function above to create the token"
   ]
  },
  {
   "cell_type": "code",
   "execution_count": 2,
   "metadata": {},
   "outputs": [
    {
     "name": "stderr",
     "output_type": "stream",
     "text": [
      "Authenticated. Token saved to gcloud.auth\n"
     ]
    }
   ],
   "source": [
    "at='ya29.GlXXXXXuu4wOgi2Zyl0PYU-mwZseSWXXXXXXXRn5fF2PH_Rz4fltI16O10zgh-RVN'\n",
    "scopes = c('https://www.googleapis.com/auth/analytics.edit,https://www.googleapis.com/auth/analytics')\n",
    "token <- gar_gce_auth_default(at, scopes = scopes)"
   ]
  },
  {
   "cell_type": "markdown",
   "metadata": {},
   "source": [
    "Once the token is available, you can use pass it in directly in the `ga_auth()` function, or via the filename it has been saved under (by default `gcloud.auth`)"
   ]
  },
  {
   "cell_type": "code",
   "execution_count": 6,
   "metadata": {},
   "outputs": [
    {
     "name": "stderr",
     "output_type": "stream",
     "text": [
      "Token cache file: \n"
     ]
    },
    {
     "data": {
      "text/html": [
       "<table>\n",
       "<thead><tr><th scope=col>accountId</th><th scope=col>accountName</th><th scope=col>internalWebPropertyId</th><th scope=col>level</th><th scope=col>websiteUrl</th><th scope=col>webPropertyId</th><th scope=col>webPropertyName</th><th scope=col>type</th><th scope=col>starred</th><th scope=col>viewId</th><th scope=col>viewName</th></tr></thead>\n",
       "<tbody>\n",
       "\t<tr><td>79301104                               </td><td>cloudyr                                </td><td>118427305                              </td><td>STANDARD                               </td><td>http://cloudyr.github.io               </td><td>UA-79301104-1                          </td><td>the cloudyr project                    </td><td>WEB                                    </td><td>NA                                     </td><td>123875646                              </td><td>All Web Site Data                      </td></tr>\n",
       "\t<tr><td>54516992                               </td><td>Demo Account                           </td><td>87479473                               </td><td>STANDARD                               </td><td>https://shop.googlemerchandisestore.com</td><td>UA-54516992-1                          </td><td>Google Merchandise Store               </td><td>WEB                                    </td><td>NA                                     </td><td>92320289                               </td><td>1 Master View                          </td></tr>\n",
       "\t<tr><td>54516992                               </td><td>Demo Account                           </td><td>87479473                               </td><td>STANDARD                               </td><td>https://shop.googlemerchandisestore.com</td><td>UA-54516992-1                          </td><td>Google Merchandise Store               </td><td>WEB                                    </td><td>NA                                     </td><td>92324711                               </td><td>2 Test View                            </td></tr>\n",
       "\t<tr><td>54516992                               </td><td>Demo Account                           </td><td>87479473                               </td><td>STANDARD                               </td><td>https://shop.googlemerchandisestore.com</td><td>UA-54516992-1                          </td><td>Google Merchandise Store               </td><td>WEB                                    </td><td>NA                                     </td><td>90822334                               </td><td>3 Raw Data View                        </td></tr>\n",
       "\t<tr><td>73050356                               </td><td>GDE Tracking                           </td><td>110873793                              </td><td>STANDARD                               </td><td>http://gde-websites.com                </td><td>UA-73050356-1                          </td><td>GDE Tracking                           </td><td>WEB                                    </td><td>NA                                     </td><td>115760903                              </td><td>Bot excluded                           </td></tr>\n",
       "\t<tr><td>73050356                               </td><td>GDE Tracking                           </td><td>110873793                              </td><td>STANDARD                               </td><td>http://gde-websites.com                </td><td>UA-73050356-1                          </td><td>GDE Tracking                           </td><td>WEB                                    </td><td>NA                                     </td><td>115751114                              </td><td>RAW DATA                               </td></tr>\n",
       "</tbody>\n",
       "</table>\n"
      ],
      "text/latex": [
       "\\begin{tabular}{r|lllllllllll}\n",
       " accountId & accountName & internalWebPropertyId & level & websiteUrl & webPropertyId & webPropertyName & type & starred & viewId & viewName\\\\\n",
       "\\hline\n",
       "\t 79301104                                & cloudyr                                 & 118427305                               & STANDARD                                & http://cloudyr.github.io                & UA-79301104-1                           & the cloudyr project                     & WEB                                     & NA                                      & 123875646                               & All Web Site Data                      \\\\\n",
       "\t 54516992                                & Demo Account                            & 87479473                                & STANDARD                                & https://shop.googlemerchandisestore.com & UA-54516992-1                           & Google Merchandise Store                & WEB                                     & NA                                      & 92320289                                & 1 Master View                          \\\\\n",
       "\t 54516992                                & Demo Account                            & 87479473                                & STANDARD                                & https://shop.googlemerchandisestore.com & UA-54516992-1                           & Google Merchandise Store                & WEB                                     & NA                                      & 92324711                                & 2 Test View                            \\\\\n",
       "\t 54516992                                & Demo Account                            & 87479473                                & STANDARD                                & https://shop.googlemerchandisestore.com & UA-54516992-1                           & Google Merchandise Store                & WEB                                     & NA                                      & 90822334                                & 3 Raw Data View                        \\\\\n",
       "\t 73050356                                & GDE Tracking                            & 110873793                               & STANDARD                                & http://gde-websites.com                 & UA-73050356-1                           & GDE Tracking                            & WEB                                     & NA                                      & 115760903                               & Bot excluded                           \\\\\n",
       "\t 73050356                                & GDE Tracking                            & 110873793                               & STANDARD                                & http://gde-websites.com                 & UA-73050356-1                           & GDE Tracking                            & WEB                                     & NA                                      & 115751114                               & RAW DATA                               \\\\\n",
       "\\end{tabular}\n"
      ],
      "text/markdown": [
       "\n",
       "accountId | accountName | internalWebPropertyId | level | websiteUrl | webPropertyId | webPropertyName | type | starred | viewId | viewName | \n",
       "|---|---|---|---|---|---|\n",
       "| 79301104                                | cloudyr                                 | 118427305                               | STANDARD                                | http://cloudyr.github.io                | UA-79301104-1                           | the cloudyr project                     | WEB                                     | NA                                      | 123875646                               | All Web Site Data                       | \n",
       "| 54516992                                | Demo Account                            | 87479473                                | STANDARD                                | https://shop.googlemerchandisestore.com | UA-54516992-1                           | Google Merchandise Store                | WEB                                     | NA                                      | 92320289                                | 1 Master View                           | \n",
       "| 54516992                                | Demo Account                            | 87479473                                | STANDARD                                | https://shop.googlemerchandisestore.com | UA-54516992-1                           | Google Merchandise Store                | WEB                                     | NA                                      | 92324711                                | 2 Test View                             | \n",
       "| 54516992                                | Demo Account                            | 87479473                                | STANDARD                                | https://shop.googlemerchandisestore.com | UA-54516992-1                           | Google Merchandise Store                | WEB                                     | NA                                      | 90822334                                | 3 Raw Data View                         | \n",
       "| 73050356                                | GDE Tracking                            | 110873793                               | STANDARD                                | http://gde-websites.com                 | UA-73050356-1                           | GDE Tracking                            | WEB                                     | NA                                      | 115760903                               | Bot excluded                            | \n",
       "| 73050356                                | GDE Tracking                            | 110873793                               | STANDARD                                | http://gde-websites.com                 | UA-73050356-1                           | GDE Tracking                            | WEB                                     | NA                                      | 115751114                               | RAW DATA                                | \n",
       "\n",
       "\n"
      ],
      "text/plain": [
       "  accountId accountName  internalWebPropertyId level   \n",
       "1 79301104  cloudyr      118427305             STANDARD\n",
       "2 54516992  Demo Account 87479473              STANDARD\n",
       "3 54516992  Demo Account 87479473              STANDARD\n",
       "4 54516992  Demo Account 87479473              STANDARD\n",
       "5 73050356  GDE Tracking 110873793             STANDARD\n",
       "6 73050356  GDE Tracking 110873793             STANDARD\n",
       "  websiteUrl                              webPropertyId\n",
       "1 http://cloudyr.github.io                UA-79301104-1\n",
       "2 https://shop.googlemerchandisestore.com UA-54516992-1\n",
       "3 https://shop.googlemerchandisestore.com UA-54516992-1\n",
       "4 https://shop.googlemerchandisestore.com UA-54516992-1\n",
       "5 http://gde-websites.com                 UA-73050356-1\n",
       "6 http://gde-websites.com                 UA-73050356-1\n",
       "  webPropertyName          type starred viewId    viewName         \n",
       "1 the cloudyr project      WEB  NA      123875646 All Web Site Data\n",
       "2 Google Merchandise Store WEB  NA      92320289  1 Master View    \n",
       "3 Google Merchandise Store WEB  NA      92324711  2 Test View      \n",
       "4 Google Merchandise Store WEB  NA      90822334  3 Raw Data View  \n",
       "5 GDE Tracking             WEB  NA      115760903 Bot excluded     \n",
       "6 GDE Tracking             WEB  NA      115751114 RAW DATA         "
      ]
     },
     "metadata": {},
     "output_type": "display_data"
    }
   ],
   "source": [
    "library(googleAnalyticsR)\n",
    "ga_auth(token)\n",
    "\n",
    "# can now list accounts, get data etc.\n",
    "accs <- ga_account_list()\n",
    "head(accs)"
   ]
  },
  {
   "cell_type": "code",
   "execution_count": 4,
   "metadata": {},
   "outputs": [
    {
     "name": "stderr",
     "output_type": "stream",
     "text": [
      "2019-06-10 13:31:26> Downloaded [81] rows from a total of [81].\n"
     ]
    },
    {
     "data": {
      "text/html": [
       "<table>\n",
       "<thead><tr><th scope=col>source</th><th scope=col>sessions</th></tr></thead>\n",
       "<tbody>\n",
       "\t<tr><td>google            </td><td>5182              </td></tr>\n",
       "\t<tr><td>(direct)          </td><td>1625              </td></tr>\n",
       "\t<tr><td>t.co              </td><td> 179              </td></tr>\n",
       "\t<tr><td>github.com        </td><td> 111              </td></tr>\n",
       "\t<tr><td>cran.r-project.org</td><td>  47              </td></tr>\n",
       "\t<tr><td>shinyapps         </td><td>  40              </td></tr>\n",
       "</tbody>\n",
       "</table>\n"
      ],
      "text/latex": [
       "\\begin{tabular}{r|ll}\n",
       " source & sessions\\\\\n",
       "\\hline\n",
       "\t google             & 5182              \\\\\n",
       "\t (direct)           & 1625              \\\\\n",
       "\t t.co               &  179              \\\\\n",
       "\t github.com         &  111              \\\\\n",
       "\t cran.r-project.org &   47              \\\\\n",
       "\t shinyapps          &   40              \\\\\n",
       "\\end{tabular}\n"
      ],
      "text/markdown": [
       "\n",
       "source | sessions | \n",
       "|---|---|---|---|---|---|\n",
       "| google             | 5182               | \n",
       "| (direct)           | 1625               | \n",
       "| t.co               |  179               | \n",
       "| github.com         |  111               | \n",
       "| cran.r-project.org |   47               | \n",
       "| shinyapps          |   40               | \n",
       "\n",
       "\n"
      ],
      "text/plain": [
       "  source             sessions\n",
       "1 google             5182    \n",
       "2 (direct)           1625    \n",
       "3 t.co                179    \n",
       "4 github.com          111    \n",
       "5 cran.r-project.org   47    \n",
       "6 shinyapps            40    "
      ]
     },
     "metadata": {},
     "output_type": "display_data"
    }
   ],
   "source": [
    "viewId <- 81416156\n",
    "gadata <- google_analytics(viewId, \n",
    "                           date_range = c(\"30daysAgo\", \"yesterday\"), \n",
    "                           metrics = \"sessions\", dimensions = \"source\", \n",
    "                           order = order_type(\"sessions\", \"DESCENDING\", \"VALUE\"))\n",
    "head(gadata)"
   ]
  },
  {
   "cell_type": "markdown",
   "metadata": {},
   "source": [
    "## Authentication via JSON service account\n",
    "\n",
    "One other alternative which is better for long-term production use it to generate a service account key.\n",
    "\n",
    "1. In the same place you generated the OAuth2 credentials create a `service account key` [here](https://console.cloud.google.com/apis/credentials)\n",
    "2. Download and upload to the Jupyter instance.  Protect this key as it gives access.\n",
    "3. The key will have an email associated with it.  Add this as a user to your Google Analytics account you want to interact with.\n",
    "4. Use `googleAuthR::gar_service_auth()` to authenticate.\n",
    "\n",
    "This has more details on the [googleAnalyticsR website here](https://code.markedmondson.me/googleAnalyticsR/articles/setup.html#authentication-method-3-google-cloud-service-account)\n"
   ]
  },
  {
   "cell_type": "code",
   "execution_count": 5,
   "metadata": {},
   "outputs": [
    {
     "data": {
      "text/plain": [
       "R version 3.5.1 (2018-07-02)\n",
       "Platform: x86_64-pc-linux-gnu (64-bit)\n",
       "Running under: Debian GNU/Linux 9 (stretch)\n",
       "\n",
       "Matrix products: default\n",
       "BLAS: /opt/anaconda3/lib/R/lib/libRblas.so\n",
       "LAPACK: /opt/anaconda3/lib/R/lib/libRlapack.so\n",
       "\n",
       "locale:\n",
       " [1] LC_CTYPE=en_US.UTF-8       LC_NUMERIC=C              \n",
       " [3] LC_TIME=en_US.UTF-8        LC_COLLATE=en_US.UTF-8    \n",
       " [5] LC_MONETARY=en_US.UTF-8    LC_MESSAGES=en_US.UTF-8   \n",
       " [7] LC_PAPER=en_US.UTF-8       LC_NAME=C                 \n",
       " [9] LC_ADDRESS=C               LC_TELEPHONE=C            \n",
       "[11] LC_MEASUREMENT=en_US.UTF-8 LC_IDENTIFICATION=C       \n",
       "\n",
       "attached base packages:\n",
       "[1] stats     graphics  grDevices utils     datasets  methods   base     \n",
       "\n",
       "other attached packages:\n",
       "[1] bindrcpp_0.2.2         googleAnalyticsR_0.5.0 RevoUtils_11.0.1      \n",
       "[4] RevoUtilsMath_11.0.0  \n",
       "\n",
       "loaded via a namespace (and not attached):\n",
       " [1] Rcpp_0.12.18      bindr_0.1.1       magrittr_1.5      tidyselect_0.2.4 \n",
       " [5] uuid_0.1-2        R6_2.2.2          rlang_0.3.4.9003  stringr_1.3.1    \n",
       " [9] httr_1.3.1        dplyr_0.7.6       tools_3.5.1       googleAuthR_0.6.3\n",
       "[13] htmltools_0.3.6   digest_0.6.15     assertthat_0.2.0  tibble_1.4.2     \n",
       "[17] crayon_1.3.4      IRdisplay_0.5.0   tidyr_0.8.1       purrr_0.2.5      \n",
       "[21] repr_0.15.0       base64enc_0.1-3   curl_3.2          IRkernel_0.8.11  \n",
       "[25] glue_1.3.0        memoise_1.1.0     evaluate_0.11     pbdZMQ_0.3-3     \n",
       "[29] stringi_1.2.4     pillar_1.4.1.9000 compiler_3.5.1    jsonlite_1.5     \n",
       "[33] pkgconfig_2.0.1  "
      ]
     },
     "metadata": {},
     "output_type": "display_data"
    }
   ],
   "source": [
    "sessionInfo()"
   ]
  }
 ],
 "metadata": {
  "kernelspec": {
   "display_name": "R",
   "language": "R",
   "name": "ir"
  },
  "language_info": {
   "codemirror_mode": "r",
   "file_extension": ".r",
   "mimetype": "text/x-r-source",
   "name": "R",
   "pygments_lexer": "r",
   "version": "3.5.1"
  }
 },
 "nbformat": 4,
 "nbformat_minor": 2
}
